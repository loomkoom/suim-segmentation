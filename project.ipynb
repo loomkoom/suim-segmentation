{
 "cells": [
  {
   "cell_type": "code",
   "execution_count": 8,
   "metadata": {},
   "outputs": [
    {
     "name": "stdout",
     "output_type": "stream",
     "text": [
      "We expect the data files in directory d:\\Library\\Downloads\\Documents\\School\\SUPSI_23-24\\deep_learning\\notebooks\\data\\SUIM\\data\n"
     ]
    }
   ],
   "source": [
    "import numpy as np\n",
    "import pathlib\n",
    "import skimage\n",
    "ddir = pathlib.Path(\"data/SUIM/data\")\n",
    "print(f\"We expect the data files in directory {ddir.absolute()}\")"
   ]
  },
  {
   "cell_type": "code",
   "execution_count": 33,
   "metadata": {},
   "outputs": [],
   "source": [
    "def get_fish_pixel(mask):\n",
    "    \"\"\"Get the pixel count of the fish in the image mas (yellow pixels)\"\"\"\n",
    "    im = skimage.io.imread(pathlib.Path(ddir, \"test\", \"masks\", mask))\n",
    "    return np.sum(im == [1, 1, 0])\n",
    "\n",
    "\n",
    "def get_total_size(mask):\n",
    "    \"\"\"Get the total size of the images in the dataset\"\"\"\n",
    "    im = skimage.io.imread(pathlib.Path(ddir, \"test\", \"masks\", mask))\n",
    "    return im.size"
   ]
  },
  {
   "cell_type": "code",
   "execution_count": 38,
   "metadata": {},
   "outputs": [
    {
     "name": "stdout",
     "output_type": "stream",
     "text": [
      "fish pixels:  20714898 total pixels:  118242768 17.52 % fish pixels\n"
     ]
    }
   ],
   "source": [
    "masks = [x.name for x in pathlib.Path(\n",
    "    ddir, \"test\", \"masks\").iterdir() if x.is_file()]\n",
    "total_fish_pixels = sum(map(get_fish_pixel, masks))\n",
    "total_pixels = sum(map(get_total_size, masks))\n",
    "print(\"fish pixels: \", total_fish_pixels, \", total pixels: \", total_pixels,\n",
    "      round(total_fish_pixels/total_pixels, 4)*100, \"% fish pixels\")"
   ]
  },
  {
   "cell_type": "code",
   "execution_count": 43,
   "metadata": {},
   "outputs": [
    {
     "name": "stderr",
     "output_type": "stream",
     "text": [
      "C:\\Users\\kaisb\\AppData\\Local\\Temp\\ipykernel_1624\\2337624804.py:38: UserWarning: D:\\Library\\Downloads\\Documents\\School\\SUPSI_23-24\\deep_learning\\notebooks\\data\\SUIM\\data\\test\\patches\\masks\\n_l_18__patch_f0.bmp is a low contrast image\n",
      "  skimage.io.imsave(pathlib.Path(ddir, \"test\", \"patches\",\n",
      "C:\\Users\\kaisb\\AppData\\Local\\Temp\\ipykernel_1624\\2337624804.py:38: UserWarning: D:\\Library\\Downloads\\Documents\\School\\SUPSI_23-24\\deep_learning\\notebooks\\data\\SUIM\\data\\test\\patches\\masks\\f_r_93__patch_f1.bmp is a low contrast image\n",
      "  skimage.io.imsave(pathlib.Path(ddir, \"test\", \"patches\",\n",
      "C:\\Users\\kaisb\\AppData\\Local\\Temp\\ipykernel_1624\\2337624804.py:38: UserWarning: D:\\Library\\Downloads\\Documents\\School\\SUPSI_23-24\\deep_learning\\notebooks\\data\\SUIM\\data\\test\\patches\\masks\\f_r_2052__patch_f2.bmp is a low contrast image\n",
      "  skimage.io.imsave(pathlib.Path(ddir, \"test\", \"patches\",\n"
     ]
    },
    {
     "ename": "KeyboardInterrupt",
     "evalue": "",
     "output_type": "error",
     "traceback": [
      "\u001b[1;31m---------------------------------------------------------------------------\u001b[0m",
      "\u001b[1;31mKeyboardInterrupt\u001b[0m                         Traceback (most recent call last)",
      "\u001b[1;32md:\\Library\\Downloads\\Documents\\School\\SUPSI_23-24\\deep_learning\\notebooks\\project.ipynb Cell 4\u001b[0m line \u001b[0;36m3\n\u001b[0;32m     <a href='vscode-notebook-cell:/d%3A/Library/Downloads/Documents/School/SUPSI_23-24/deep_learning/notebooks/project.ipynb#W3sZmlsZQ%3D%3D?line=32'>33</a>\u001b[0m mask \u001b[39m=\u001b[39m np\u001b[39m.\u001b[39mrandom\u001b[39m.\u001b[39mchoice(masks)\n\u001b[0;32m     <a href='vscode-notebook-cell:/d%3A/Library/Downloads/Documents/School/SUPSI_23-24/deep_learning/notebooks/project.ipynb#W3sZmlsZQ%3D%3D?line=33'>34</a>\u001b[0m mask_patch \u001b[39m=\u001b[39m create_patch(pathlib\u001b[39m.\u001b[39mPath(\n\u001b[0;32m     <a href='vscode-notebook-cell:/d%3A/Library/Downloads/Documents/School/SUPSI_23-24/deep_learning/notebooks/project.ipynb#W3sZmlsZQ%3D%3D?line=34'>35</a>\u001b[0m     ddir, \u001b[39m\"\u001b[39m\u001b[39mtest\u001b[39m\u001b[39m\"\u001b[39m, \u001b[39m\"\u001b[39m\u001b[39mmasks\u001b[39m\u001b[39m\"\u001b[39m, \u001b[39mf\u001b[39m\u001b[39m\"\u001b[39m\u001b[39m{\u001b[39;00mmask\u001b[39m}\u001b[39;00m\u001b[39m.bmp\u001b[39m\u001b[39m\"\u001b[39m), random\u001b[39m=\u001b[39m\u001b[39mFalse\u001b[39;00m)\n\u001b[1;32m---> <a href='vscode-notebook-cell:/d%3A/Library/Downloads/Documents/School/SUPSI_23-24/deep_learning/notebooks/project.ipynb#W3sZmlsZQ%3D%3D?line=35'>36</a>\u001b[0m image_patch \u001b[39m=\u001b[39m create_patch(pathlib\u001b[39m.\u001b[39;49mPath(\n\u001b[0;32m     <a href='vscode-notebook-cell:/d%3A/Library/Downloads/Documents/School/SUPSI_23-24/deep_learning/notebooks/project.ipynb#W3sZmlsZQ%3D%3D?line=36'>37</a>\u001b[0m     ddir, \u001b[39m\"\u001b[39;49m\u001b[39mtest\u001b[39;49m\u001b[39m\"\u001b[39;49m, \u001b[39m\"\u001b[39;49m\u001b[39mimages\u001b[39;49m\u001b[39m\"\u001b[39;49m, \u001b[39mf\u001b[39;49m\u001b[39m\"\u001b[39;49m\u001b[39m{\u001b[39;49;00mmask\u001b[39m}\u001b[39;49;00m\u001b[39m.jpg\u001b[39;49m\u001b[39m\"\u001b[39;49m), random\u001b[39m=\u001b[39;49m\u001b[39mFalse\u001b[39;49;00m)\n\u001b[0;32m     <a href='vscode-notebook-cell:/d%3A/Library/Downloads/Documents/School/SUPSI_23-24/deep_learning/notebooks/project.ipynb#W3sZmlsZQ%3D%3D?line=37'>38</a>\u001b[0m skimage\u001b[39m.\u001b[39mio\u001b[39m.\u001b[39mimsave(pathlib\u001b[39m.\u001b[39mPath(ddir, \u001b[39m\"\u001b[39m\u001b[39mtest\u001b[39m\u001b[39m\"\u001b[39m, \u001b[39m\"\u001b[39m\u001b[39mpatches\u001b[39m\u001b[39m\"\u001b[39m,\n\u001b[0;32m     <a href='vscode-notebook-cell:/d%3A/Library/Downloads/Documents/School/SUPSI_23-24/deep_learning/notebooks/project.ipynb#W3sZmlsZQ%3D%3D?line=38'>39</a>\u001b[0m                   \u001b[39m\"\u001b[39m\u001b[39mmasks\u001b[39m\u001b[39m\"\u001b[39m, mask\u001b[39m+\u001b[39m\u001b[39m\"\u001b[39m\u001b[39m_patch_f\u001b[39m\u001b[39m\"\u001b[39m\u001b[39m+\u001b[39m\u001b[39mstr\u001b[39m(i)\u001b[39m+\u001b[39m\u001b[39m\"\u001b[39m\u001b[39m.bmp\u001b[39m\u001b[39m\"\u001b[39m), mask_patch)\n\u001b[0;32m     <a href='vscode-notebook-cell:/d%3A/Library/Downloads/Documents/School/SUPSI_23-24/deep_learning/notebooks/project.ipynb#W3sZmlsZQ%3D%3D?line=39'>40</a>\u001b[0m skimage\u001b[39m.\u001b[39mio\u001b[39m.\u001b[39mimsave(pathlib\u001b[39m.\u001b[39mPath(ddir, \u001b[39m\"\u001b[39m\u001b[39mtest\u001b[39m\u001b[39m\"\u001b[39m, \u001b[39m\"\u001b[39m\u001b[39mpatches\u001b[39m\u001b[39m\"\u001b[39m,\n\u001b[0;32m     <a href='vscode-notebook-cell:/d%3A/Library/Downloads/Documents/School/SUPSI_23-24/deep_learning/notebooks/project.ipynb#W3sZmlsZQ%3D%3D?line=40'>41</a>\u001b[0m                   \u001b[39m\"\u001b[39m\u001b[39mimages\u001b[39m\u001b[39m\"\u001b[39m, mask\u001b[39m+\u001b[39m\u001b[39m\"\u001b[39m\u001b[39m_patch_f\u001b[39m\u001b[39m\"\u001b[39m\u001b[39m+\u001b[39m\u001b[39mstr\u001b[39m(i)\u001b[39m+\u001b[39m\u001b[39m\"\u001b[39m\u001b[39m.jpg\u001b[39m\u001b[39m\"\u001b[39m), image_patch)\n",
      "\u001b[1;32md:\\Library\\Downloads\\Documents\\School\\SUPSI_23-24\\deep_learning\\notebooks\\project.ipynb Cell 4\u001b[0m line \u001b[0;36m1\n\u001b[0;32m      <a href='vscode-notebook-cell:/d%3A/Library/Downloads/Documents/School/SUPSI_23-24/deep_learning/notebooks/project.ipynb#W3sZmlsZQ%3D%3D?line=8'>9</a>\u001b[0m x \u001b[39m=\u001b[39m np\u001b[39m.\u001b[39mrandom\u001b[39m.\u001b[39mrandint(\u001b[39m0\u001b[39m, im\u001b[39m.\u001b[39mshape[\u001b[39m0\u001b[39m]\u001b[39m-\u001b[39msize)\n\u001b[0;32m     <a href='vscode-notebook-cell:/d%3A/Library/Downloads/Documents/School/SUPSI_23-24/deep_learning/notebooks/project.ipynb#W3sZmlsZQ%3D%3D?line=9'>10</a>\u001b[0m y \u001b[39m=\u001b[39m np\u001b[39m.\u001b[39mrandom\u001b[39m.\u001b[39mrandint(\u001b[39m0\u001b[39m, im\u001b[39m.\u001b[39mshape[\u001b[39m1\u001b[39m]\u001b[39m-\u001b[39msize)\n\u001b[1;32m---> <a href='vscode-notebook-cell:/d%3A/Library/Downloads/Documents/School/SUPSI_23-24/deep_learning/notebooks/project.ipynb#W3sZmlsZQ%3D%3D?line=10'>11</a>\u001b[0m \u001b[39mwhile\u001b[39;00m np\u001b[39m.\u001b[39;49msum(im[x\u001b[39m+\u001b[39;49msize\u001b[39m/\u001b[39;49m\u001b[39m/\u001b[39;49m\u001b[39m2\u001b[39;49m, y\u001b[39m+\u001b[39;49msize\u001b[39m/\u001b[39;49m\u001b[39m/\u001b[39;49m\u001b[39m2\u001b[39;49m] \u001b[39m==\u001b[39;49m [\u001b[39m1\u001b[39;49m, \u001b[39m1\u001b[39;49m, \u001b[39m0\u001b[39;49m]) \u001b[39m==\u001b[39m \u001b[39m0\u001b[39m:\n\u001b[0;32m     <a href='vscode-notebook-cell:/d%3A/Library/Downloads/Documents/School/SUPSI_23-24/deep_learning/notebooks/project.ipynb#W3sZmlsZQ%3D%3D?line=11'>12</a>\u001b[0m     x \u001b[39m=\u001b[39m np\u001b[39m.\u001b[39mrandom\u001b[39m.\u001b[39mrandint(\u001b[39m0\u001b[39m, im\u001b[39m.\u001b[39mshape[\u001b[39m0\u001b[39m]\u001b[39m-\u001b[39msize)\n\u001b[0;32m     <a href='vscode-notebook-cell:/d%3A/Library/Downloads/Documents/School/SUPSI_23-24/deep_learning/notebooks/project.ipynb#W3sZmlsZQ%3D%3D?line=12'>13</a>\u001b[0m     y \u001b[39m=\u001b[39m np\u001b[39m.\u001b[39mrandom\u001b[39m.\u001b[39mrandint(\u001b[39m0\u001b[39m, im\u001b[39m.\u001b[39mshape[\u001b[39m1\u001b[39m]\u001b[39m-\u001b[39msize)\n",
      "File \u001b[1;32m<__array_function__ internals>:177\u001b[0m, in \u001b[0;36msum\u001b[1;34m(*args, **kwargs)\u001b[0m\n",
      "\u001b[1;31mKeyboardInterrupt\u001b[0m: "
     ]
    }
   ],
   "source": [
    "# create 20000 patches of fish and non-fish centered size 100x100\n",
    "# save to data/SUIM/test/patches\n",
    "\n",
    "# should we resize the images before creating the patches?\n",
    "\n",
    "def create_patch(path, size=100, random=True):\n",
    "    im = skimage.io.imread(path)\n",
    "    if random:\n",
    "        x = np.random.randint(0, im.shape[0]-size)\n",
    "        y = np.random.randint(0, im.shape[1]-size)\n",
    "    else:\n",
    "        # need faster way maybe just for loop if it finds at least 1 pixel\n",
    "        x = np.random.randint(0, im.shape[0]-size)\n",
    "        y = np.random.randint(0, im.shape[1]-size)\n",
    "        while np.sum(im[x+size//2, y+size//2] == [1, 1, 0]) == 0:\n",
    "            x = np.random.randint(0, im.shape[0]-size)\n",
    "            y = np.random.randint(0, im.shape[1]-size)\n",
    "\n",
    "    mask_patch = im[x:x+size, y:y+size]\n",
    "    return mask_patch\n",
    "\n",
    "\n",
    "masks = list(map(lambda m: m.replace(\".bmp\", \"\"), masks))\n",
    "\n",
    "for i in range(100):\n",
    "    mask = np.random.choice(masks)\n",
    "    mask_patch = create_patch(pathlib.Path(\n",
    "        ddir, \"test\", \"masks\", f\"{mask}.bmp\"))\n",
    "    image_patch = create_patch(pathlib.Path(\n",
    "        ddir, \"test\", \"images\", f\"{mask}.jpg\"))\n",
    "    skimage.io.imsave(pathlib.Path(ddir, \"test\", \"patches\",\n",
    "                      \"masks\", mask+\"_patch_rnd_\"+str(i)+\".bmp\"), mask_patch)\n",
    "    skimage.io.imsave(pathlib.Path(ddir, \"test\", \"patches\",\n",
    "                      \"images\", mask+\"_patch_rnd_\"+str(i)+\".jpg\"), image_patch)\n",
    "\n",
    "for i in range(100):\n",
    "    mask = np.random.choice(masks)\n",
    "    mask_patch = create_patch(pathlib.Path(\n",
    "        ddir, \"test\", \"masks\", f\"{mask}.bmp\"), random=False)\n",
    "    image_patch = create_patch(pathlib.Path(\n",
    "        ddir, \"test\", \"images\", f\"{mask}.jpg\"), random=False)\n",
    "    skimage.io.imsave(pathlib.Path(ddir, \"test\", \"patches\",\n",
    "                      \"masks\", mask+\"_patch_f\"+str(i)+\".bmp\"), mask_patch)\n",
    "    skimage.io.imsave(pathlib.Path(ddir, \"test\", \"patches\",\n",
    "                      \"images\", mask+\"_patch_f\"+str(i)+\".jpg\"), image_patch)"
   ]
  }
 ],
 "metadata": {
  "kernelspec": {
   "display_name": "venv311",
   "language": "python",
   "name": "python3"
  },
  "language_info": {
   "codemirror_mode": {
    "name": "ipython",
    "version": 3
   },
   "file_extension": ".py",
   "mimetype": "text/x-python",
   "name": "python",
   "nbconvert_exporter": "python",
   "pygments_lexer": "ipython3",
   "version": "3.11.6"
  }
 },
 "nbformat": 4,
 "nbformat_minor": 2
}
