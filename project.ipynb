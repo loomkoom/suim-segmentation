{
 "cells": [
  {
   "cell_type": "code",
   "execution_count": 8,
   "metadata": {},
   "outputs": [
    {
     "name": "stdout",
     "output_type": "stream",
     "text": [
      "We expect the data files in directory d:\\Library\\Downloads\\Documents\\School\\SUPSI_23-24\\deep_learning\\notebooks\\data\\SUIM\\data\n"
     ]
    }
   ],
   "source": [
    "import numpy as np\n",
    "import pathlib\n",
    "import skimage \n",
    "ddir = pathlib.Path(\"data/SUIM/data\")\n",
    "print(f\"We expect the data files in directory {ddir.absolute()}\")"
   ]
  },
  {
   "cell_type": "code",
   "execution_count": 33,
   "metadata": {},
   "outputs": [],
   "source": [
    "def get_fish_pixel(mask):\n",
    "    \"\"\"Get the pixel count of the fish in the image mas (yellow pixels)\"\"\"\n",
    "    im = skimage.io.imread(pathlib.Path(ddir, \"test\", \"masks\",mask))\n",
    "    return np.sum(im == [1,1,0])\n",
    "\n",
    "def get_total_size(mask):\n",
    "    \"\"\"Get the total size of the images in the dataset\"\"\"\n",
    "    im = skimage.io.imread(pathlib.Path(ddir, \"test\", \"masks\",mask))\n",
    "    return im.size\n",
    "\n",
    "    \n",
    "    "
   ]
  },
  {
   "cell_type": "code",
   "execution_count": 35,
   "metadata": {},
   "outputs": [
    {
     "name": "stdout",
     "output_type": "stream",
     "text": [
      "fish pixels:  20714898 total pixels:  118242768 0.17518955577900544 % fish pixels\n"
     ]
    }
   ],
   "source": [
    "masks = [x.name for x in pathlib.Path(ddir, \"test\", \"masks\").iterdir() if x.is_file()]\n",
    "total_fish_pixels = sum(map(get_fish_pixel,masks))\n",
    "total_pixels = sum(map(get_total_size,masks))\n",
    "print(\"fish pixels: \",total_fish_pixels,\"total pixels: \",total_pixels, total_fish_pixels/total_pixels,\"% fish pixels\")\n",
    "    "
   ]
  }
 ],
 "metadata": {
  "kernelspec": {
   "display_name": "venv311",
   "language": "python",
   "name": "python3"
  },
  "language_info": {
   "codemirror_mode": {
    "name": "ipython",
    "version": 3
   },
   "file_extension": ".py",
   "mimetype": "text/x-python",
   "name": "python",
   "nbconvert_exporter": "python",
   "pygments_lexer": "ipython3",
   "version": "3.11.6"
  }
 },
 "nbformat": 4,
 "nbformat_minor": 2
}
